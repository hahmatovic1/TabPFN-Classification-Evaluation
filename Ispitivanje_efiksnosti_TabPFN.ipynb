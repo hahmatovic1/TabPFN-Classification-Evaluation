{
  "nbformat": 4,
  "nbformat_minor": 0,
  "metadata": {
    "colab": {
      "provenance": [],
      "gpuType": "T4"
    },
    "kernelspec": {
      "name": "python3",
      "display_name": "Python 3"
    },
    "language_info": {
      "name": "python"
    },
    "accelerator": "GPU",
    "widgets": {
      "application/vnd.jupyter.widget-state+json": {
        "2952bbbd797443b08cd66c9e925a2b76": {
          "model_module": "@jupyter-widgets/controls",
          "model_name": "HBoxModel",
          "model_module_version": "1.5.0",
          "state": {
            "_dom_classes": [],
            "_model_module": "@jupyter-widgets/controls",
            "_model_module_version": "1.5.0",
            "_model_name": "HBoxModel",
            "_view_count": null,
            "_view_module": "@jupyter-widgets/controls",
            "_view_module_version": "1.5.0",
            "_view_name": "HBoxView",
            "box_style": "",
            "children": [
              "IPY_MODEL_1e28a590983b413590f41e9c7cededa6",
              "IPY_MODEL_8c054dd043594d538d514c0285c023e0",
              "IPY_MODEL_62a73071ac5f49208296710200d6fc43"
            ],
            "layout": "IPY_MODEL_98e89cb1cf744d639eeb198b5ee394b3"
          }
        },
        "1e28a590983b413590f41e9c7cededa6": {
          "model_module": "@jupyter-widgets/controls",
          "model_name": "HTMLModel",
          "model_module_version": "1.5.0",
          "state": {
            "_dom_classes": [],
            "_model_module": "@jupyter-widgets/controls",
            "_model_module_version": "1.5.0",
            "_model_name": "HTMLModel",
            "_view_count": null,
            "_view_module": "@jupyter-widgets/controls",
            "_view_module_version": "1.5.0",
            "_view_name": "HTMLView",
            "description": "",
            "description_tooltip": null,
            "layout": "IPY_MODEL_d6c03ddf07ee499c8d0a1d51512e2ce2",
            "placeholder": "​",
            "style": "IPY_MODEL_a1f7b38ff8ca4dd684e3eec865b79768",
            "value": "tabpfn-v2-classifier.ckpt: 100%"
          }
        },
        "8c054dd043594d538d514c0285c023e0": {
          "model_module": "@jupyter-widgets/controls",
          "model_name": "FloatProgressModel",
          "model_module_version": "1.5.0",
          "state": {
            "_dom_classes": [],
            "_model_module": "@jupyter-widgets/controls",
            "_model_module_version": "1.5.0",
            "_model_name": "FloatProgressModel",
            "_view_count": null,
            "_view_module": "@jupyter-widgets/controls",
            "_view_module_version": "1.5.0",
            "_view_name": "ProgressView",
            "bar_style": "success",
            "description": "",
            "description_tooltip": null,
            "layout": "IPY_MODEL_d4ae3afdab644e55a2bc725e86379c21",
            "max": 29016968,
            "min": 0,
            "orientation": "horizontal",
            "style": "IPY_MODEL_7275bef6c79d414abfd3253a7b28304b",
            "value": 29016968
          }
        },
        "62a73071ac5f49208296710200d6fc43": {
          "model_module": "@jupyter-widgets/controls",
          "model_name": "HTMLModel",
          "model_module_version": "1.5.0",
          "state": {
            "_dom_classes": [],
            "_model_module": "@jupyter-widgets/controls",
            "_model_module_version": "1.5.0",
            "_model_name": "HTMLModel",
            "_view_count": null,
            "_view_module": "@jupyter-widgets/controls",
            "_view_module_version": "1.5.0",
            "_view_name": "HTMLView",
            "description": "",
            "description_tooltip": null,
            "layout": "IPY_MODEL_96c839917e5248449fa53ad1ee9cce49",
            "placeholder": "​",
            "style": "IPY_MODEL_42d0a2de6b7b49198ab6d4b23822fd51",
            "value": " 29.0M/29.0M [00:00&lt;00:00, 57.1MB/s]"
          }
        },
        "98e89cb1cf744d639eeb198b5ee394b3": {
          "model_module": "@jupyter-widgets/base",
          "model_name": "LayoutModel",
          "model_module_version": "1.2.0",
          "state": {
            "_model_module": "@jupyter-widgets/base",
            "_model_module_version": "1.2.0",
            "_model_name": "LayoutModel",
            "_view_count": null,
            "_view_module": "@jupyter-widgets/base",
            "_view_module_version": "1.2.0",
            "_view_name": "LayoutView",
            "align_content": null,
            "align_items": null,
            "align_self": null,
            "border": null,
            "bottom": null,
            "display": null,
            "flex": null,
            "flex_flow": null,
            "grid_area": null,
            "grid_auto_columns": null,
            "grid_auto_flow": null,
            "grid_auto_rows": null,
            "grid_column": null,
            "grid_gap": null,
            "grid_row": null,
            "grid_template_areas": null,
            "grid_template_columns": null,
            "grid_template_rows": null,
            "height": null,
            "justify_content": null,
            "justify_items": null,
            "left": null,
            "margin": null,
            "max_height": null,
            "max_width": null,
            "min_height": null,
            "min_width": null,
            "object_fit": null,
            "object_position": null,
            "order": null,
            "overflow": null,
            "overflow_x": null,
            "overflow_y": null,
            "padding": null,
            "right": null,
            "top": null,
            "visibility": null,
            "width": null
          }
        },
        "d6c03ddf07ee499c8d0a1d51512e2ce2": {
          "model_module": "@jupyter-widgets/base",
          "model_name": "LayoutModel",
          "model_module_version": "1.2.0",
          "state": {
            "_model_module": "@jupyter-widgets/base",
            "_model_module_version": "1.2.0",
            "_model_name": "LayoutModel",
            "_view_count": null,
            "_view_module": "@jupyter-widgets/base",
            "_view_module_version": "1.2.0",
            "_view_name": "LayoutView",
            "align_content": null,
            "align_items": null,
            "align_self": null,
            "border": null,
            "bottom": null,
            "display": null,
            "flex": null,
            "flex_flow": null,
            "grid_area": null,
            "grid_auto_columns": null,
            "grid_auto_flow": null,
            "grid_auto_rows": null,
            "grid_column": null,
            "grid_gap": null,
            "grid_row": null,
            "grid_template_areas": null,
            "grid_template_columns": null,
            "grid_template_rows": null,
            "height": null,
            "justify_content": null,
            "justify_items": null,
            "left": null,
            "margin": null,
            "max_height": null,
            "max_width": null,
            "min_height": null,
            "min_width": null,
            "object_fit": null,
            "object_position": null,
            "order": null,
            "overflow": null,
            "overflow_x": null,
            "overflow_y": null,
            "padding": null,
            "right": null,
            "top": null,
            "visibility": null,
            "width": null
          }
        },
        "a1f7b38ff8ca4dd684e3eec865b79768": {
          "model_module": "@jupyter-widgets/controls",
          "model_name": "DescriptionStyleModel",
          "model_module_version": "1.5.0",
          "state": {
            "_model_module": "@jupyter-widgets/controls",
            "_model_module_version": "1.5.0",
            "_model_name": "DescriptionStyleModel",
            "_view_count": null,
            "_view_module": "@jupyter-widgets/base",
            "_view_module_version": "1.2.0",
            "_view_name": "StyleView",
            "description_width": ""
          }
        },
        "d4ae3afdab644e55a2bc725e86379c21": {
          "model_module": "@jupyter-widgets/base",
          "model_name": "LayoutModel",
          "model_module_version": "1.2.0",
          "state": {
            "_model_module": "@jupyter-widgets/base",
            "_model_module_version": "1.2.0",
            "_model_name": "LayoutModel",
            "_view_count": null,
            "_view_module": "@jupyter-widgets/base",
            "_view_module_version": "1.2.0",
            "_view_name": "LayoutView",
            "align_content": null,
            "align_items": null,
            "align_self": null,
            "border": null,
            "bottom": null,
            "display": null,
            "flex": null,
            "flex_flow": null,
            "grid_area": null,
            "grid_auto_columns": null,
            "grid_auto_flow": null,
            "grid_auto_rows": null,
            "grid_column": null,
            "grid_gap": null,
            "grid_row": null,
            "grid_template_areas": null,
            "grid_template_columns": null,
            "grid_template_rows": null,
            "height": null,
            "justify_content": null,
            "justify_items": null,
            "left": null,
            "margin": null,
            "max_height": null,
            "max_width": null,
            "min_height": null,
            "min_width": null,
            "object_fit": null,
            "object_position": null,
            "order": null,
            "overflow": null,
            "overflow_x": null,
            "overflow_y": null,
            "padding": null,
            "right": null,
            "top": null,
            "visibility": null,
            "width": null
          }
        },
        "7275bef6c79d414abfd3253a7b28304b": {
          "model_module": "@jupyter-widgets/controls",
          "model_name": "ProgressStyleModel",
          "model_module_version": "1.5.0",
          "state": {
            "_model_module": "@jupyter-widgets/controls",
            "_model_module_version": "1.5.0",
            "_model_name": "ProgressStyleModel",
            "_view_count": null,
            "_view_module": "@jupyter-widgets/base",
            "_view_module_version": "1.2.0",
            "_view_name": "StyleView",
            "bar_color": null,
            "description_width": ""
          }
        },
        "96c839917e5248449fa53ad1ee9cce49": {
          "model_module": "@jupyter-widgets/base",
          "model_name": "LayoutModel",
          "model_module_version": "1.2.0",
          "state": {
            "_model_module": "@jupyter-widgets/base",
            "_model_module_version": "1.2.0",
            "_model_name": "LayoutModel",
            "_view_count": null,
            "_view_module": "@jupyter-widgets/base",
            "_view_module_version": "1.2.0",
            "_view_name": "LayoutView",
            "align_content": null,
            "align_items": null,
            "align_self": null,
            "border": null,
            "bottom": null,
            "display": null,
            "flex": null,
            "flex_flow": null,
            "grid_area": null,
            "grid_auto_columns": null,
            "grid_auto_flow": null,
            "grid_auto_rows": null,
            "grid_column": null,
            "grid_gap": null,
            "grid_row": null,
            "grid_template_areas": null,
            "grid_template_columns": null,
            "grid_template_rows": null,
            "height": null,
            "justify_content": null,
            "justify_items": null,
            "left": null,
            "margin": null,
            "max_height": null,
            "max_width": null,
            "min_height": null,
            "min_width": null,
            "object_fit": null,
            "object_position": null,
            "order": null,
            "overflow": null,
            "overflow_x": null,
            "overflow_y": null,
            "padding": null,
            "right": null,
            "top": null,
            "visibility": null,
            "width": null
          }
        },
        "42d0a2de6b7b49198ab6d4b23822fd51": {
          "model_module": "@jupyter-widgets/controls",
          "model_name": "DescriptionStyleModel",
          "model_module_version": "1.5.0",
          "state": {
            "_model_module": "@jupyter-widgets/controls",
            "_model_module_version": "1.5.0",
            "_model_name": "DescriptionStyleModel",
            "_view_count": null,
            "_view_module": "@jupyter-widgets/base",
            "_view_module_version": "1.2.0",
            "_view_name": "StyleView",
            "description_width": ""
          }
        },
        "e100a50b6e1b4eb897b419a1e510dea7": {
          "model_module": "@jupyter-widgets/controls",
          "model_name": "HBoxModel",
          "model_module_version": "1.5.0",
          "state": {
            "_dom_classes": [],
            "_model_module": "@jupyter-widgets/controls",
            "_model_module_version": "1.5.0",
            "_model_name": "HBoxModel",
            "_view_count": null,
            "_view_module": "@jupyter-widgets/controls",
            "_view_module_version": "1.5.0",
            "_view_name": "HBoxView",
            "box_style": "",
            "children": [
              "IPY_MODEL_0d8df11d4b994dd1a2bfd43b27ba5e48",
              "IPY_MODEL_05b727cd5d75485296adf69937f84ff0",
              "IPY_MODEL_51f004b0508748d389d72195a195a0b8"
            ],
            "layout": "IPY_MODEL_26e57d1facd744f1863290ee926676a9"
          }
        },
        "0d8df11d4b994dd1a2bfd43b27ba5e48": {
          "model_module": "@jupyter-widgets/controls",
          "model_name": "HTMLModel",
          "model_module_version": "1.5.0",
          "state": {
            "_dom_classes": [],
            "_model_module": "@jupyter-widgets/controls",
            "_model_module_version": "1.5.0",
            "_model_name": "HTMLModel",
            "_view_count": null,
            "_view_module": "@jupyter-widgets/controls",
            "_view_module_version": "1.5.0",
            "_view_name": "HTMLView",
            "description": "",
            "description_tooltip": null,
            "layout": "IPY_MODEL_d9ba1c99694a4ac9a1441c2351e005db",
            "placeholder": "​",
            "style": "IPY_MODEL_aceecbeb67e14b148002ffb606398ca8",
            "value": "config.json: 100%"
          }
        },
        "05b727cd5d75485296adf69937f84ff0": {
          "model_module": "@jupyter-widgets/controls",
          "model_name": "FloatProgressModel",
          "model_module_version": "1.5.0",
          "state": {
            "_dom_classes": [],
            "_model_module": "@jupyter-widgets/controls",
            "_model_module_version": "1.5.0",
            "_model_name": "FloatProgressModel",
            "_view_count": null,
            "_view_module": "@jupyter-widgets/controls",
            "_view_module_version": "1.5.0",
            "_view_name": "ProgressView",
            "bar_style": "success",
            "description": "",
            "description_tooltip": null,
            "layout": "IPY_MODEL_450f29e1f09e4dfab301bdfa079bb156",
            "max": 37,
            "min": 0,
            "orientation": "horizontal",
            "style": "IPY_MODEL_0d55079aeed340088b1c4c4b169e6d97",
            "value": 37
          }
        },
        "51f004b0508748d389d72195a195a0b8": {
          "model_module": "@jupyter-widgets/controls",
          "model_name": "HTMLModel",
          "model_module_version": "1.5.0",
          "state": {
            "_dom_classes": [],
            "_model_module": "@jupyter-widgets/controls",
            "_model_module_version": "1.5.0",
            "_model_name": "HTMLModel",
            "_view_count": null,
            "_view_module": "@jupyter-widgets/controls",
            "_view_module_version": "1.5.0",
            "_view_name": "HTMLView",
            "description": "",
            "description_tooltip": null,
            "layout": "IPY_MODEL_14d829842d074c3e983f20675ce91c57",
            "placeholder": "​",
            "style": "IPY_MODEL_457b902604b8436bbe2ee5dbd2adce6b",
            "value": " 37.0/37.0 [00:00&lt;00:00, 1.13kB/s]"
          }
        },
        "26e57d1facd744f1863290ee926676a9": {
          "model_module": "@jupyter-widgets/base",
          "model_name": "LayoutModel",
          "model_module_version": "1.2.0",
          "state": {
            "_model_module": "@jupyter-widgets/base",
            "_model_module_version": "1.2.0",
            "_model_name": "LayoutModel",
            "_view_count": null,
            "_view_module": "@jupyter-widgets/base",
            "_view_module_version": "1.2.0",
            "_view_name": "LayoutView",
            "align_content": null,
            "align_items": null,
            "align_self": null,
            "border": null,
            "bottom": null,
            "display": null,
            "flex": null,
            "flex_flow": null,
            "grid_area": null,
            "grid_auto_columns": null,
            "grid_auto_flow": null,
            "grid_auto_rows": null,
            "grid_column": null,
            "grid_gap": null,
            "grid_row": null,
            "grid_template_areas": null,
            "grid_template_columns": null,
            "grid_template_rows": null,
            "height": null,
            "justify_content": null,
            "justify_items": null,
            "left": null,
            "margin": null,
            "max_height": null,
            "max_width": null,
            "min_height": null,
            "min_width": null,
            "object_fit": null,
            "object_position": null,
            "order": null,
            "overflow": null,
            "overflow_x": null,
            "overflow_y": null,
            "padding": null,
            "right": null,
            "top": null,
            "visibility": null,
            "width": null
          }
        },
        "d9ba1c99694a4ac9a1441c2351e005db": {
          "model_module": "@jupyter-widgets/base",
          "model_name": "LayoutModel",
          "model_module_version": "1.2.0",
          "state": {
            "_model_module": "@jupyter-widgets/base",
            "_model_module_version": "1.2.0",
            "_model_name": "LayoutModel",
            "_view_count": null,
            "_view_module": "@jupyter-widgets/base",
            "_view_module_version": "1.2.0",
            "_view_name": "LayoutView",
            "align_content": null,
            "align_items": null,
            "align_self": null,
            "border": null,
            "bottom": null,
            "display": null,
            "flex": null,
            "flex_flow": null,
            "grid_area": null,
            "grid_auto_columns": null,
            "grid_auto_flow": null,
            "grid_auto_rows": null,
            "grid_column": null,
            "grid_gap": null,
            "grid_row": null,
            "grid_template_areas": null,
            "grid_template_columns": null,
            "grid_template_rows": null,
            "height": null,
            "justify_content": null,
            "justify_items": null,
            "left": null,
            "margin": null,
            "max_height": null,
            "max_width": null,
            "min_height": null,
            "min_width": null,
            "object_fit": null,
            "object_position": null,
            "order": null,
            "overflow": null,
            "overflow_x": null,
            "overflow_y": null,
            "padding": null,
            "right": null,
            "top": null,
            "visibility": null,
            "width": null
          }
        },
        "aceecbeb67e14b148002ffb606398ca8": {
          "model_module": "@jupyter-widgets/controls",
          "model_name": "DescriptionStyleModel",
          "model_module_version": "1.5.0",
          "state": {
            "_model_module": "@jupyter-widgets/controls",
            "_model_module_version": "1.5.0",
            "_model_name": "DescriptionStyleModel",
            "_view_count": null,
            "_view_module": "@jupyter-widgets/base",
            "_view_module_version": "1.2.0",
            "_view_name": "StyleView",
            "description_width": ""
          }
        },
        "450f29e1f09e4dfab301bdfa079bb156": {
          "model_module": "@jupyter-widgets/base",
          "model_name": "LayoutModel",
          "model_module_version": "1.2.0",
          "state": {
            "_model_module": "@jupyter-widgets/base",
            "_model_module_version": "1.2.0",
            "_model_name": "LayoutModel",
            "_view_count": null,
            "_view_module": "@jupyter-widgets/base",
            "_view_module_version": "1.2.0",
            "_view_name": "LayoutView",
            "align_content": null,
            "align_items": null,
            "align_self": null,
            "border": null,
            "bottom": null,
            "display": null,
            "flex": null,
            "flex_flow": null,
            "grid_area": null,
            "grid_auto_columns": null,
            "grid_auto_flow": null,
            "grid_auto_rows": null,
            "grid_column": null,
            "grid_gap": null,
            "grid_row": null,
            "grid_template_areas": null,
            "grid_template_columns": null,
            "grid_template_rows": null,
            "height": null,
            "justify_content": null,
            "justify_items": null,
            "left": null,
            "margin": null,
            "max_height": null,
            "max_width": null,
            "min_height": null,
            "min_width": null,
            "object_fit": null,
            "object_position": null,
            "order": null,
            "overflow": null,
            "overflow_x": null,
            "overflow_y": null,
            "padding": null,
            "right": null,
            "top": null,
            "visibility": null,
            "width": null
          }
        },
        "0d55079aeed340088b1c4c4b169e6d97": {
          "model_module": "@jupyter-widgets/controls",
          "model_name": "ProgressStyleModel",
          "model_module_version": "1.5.0",
          "state": {
            "_model_module": "@jupyter-widgets/controls",
            "_model_module_version": "1.5.0",
            "_model_name": "ProgressStyleModel",
            "_view_count": null,
            "_view_module": "@jupyter-widgets/base",
            "_view_module_version": "1.2.0",
            "_view_name": "StyleView",
            "bar_color": null,
            "description_width": ""
          }
        },
        "14d829842d074c3e983f20675ce91c57": {
          "model_module": "@jupyter-widgets/base",
          "model_name": "LayoutModel",
          "model_module_version": "1.2.0",
          "state": {
            "_model_module": "@jupyter-widgets/base",
            "_model_module_version": "1.2.0",
            "_model_name": "LayoutModel",
            "_view_count": null,
            "_view_module": "@jupyter-widgets/base",
            "_view_module_version": "1.2.0",
            "_view_name": "LayoutView",
            "align_content": null,
            "align_items": null,
            "align_self": null,
            "border": null,
            "bottom": null,
            "display": null,
            "flex": null,
            "flex_flow": null,
            "grid_area": null,
            "grid_auto_columns": null,
            "grid_auto_flow": null,
            "grid_auto_rows": null,
            "grid_column": null,
            "grid_gap": null,
            "grid_row": null,
            "grid_template_areas": null,
            "grid_template_columns": null,
            "grid_template_rows": null,
            "height": null,
            "justify_content": null,
            "justify_items": null,
            "left": null,
            "margin": null,
            "max_height": null,
            "max_width": null,
            "min_height": null,
            "min_width": null,
            "object_fit": null,
            "object_position": null,
            "order": null,
            "overflow": null,
            "overflow_x": null,
            "overflow_y": null,
            "padding": null,
            "right": null,
            "top": null,
            "visibility": null,
            "width": null
          }
        },
        "457b902604b8436bbe2ee5dbd2adce6b": {
          "model_module": "@jupyter-widgets/controls",
          "model_name": "DescriptionStyleModel",
          "model_module_version": "1.5.0",
          "state": {
            "_model_module": "@jupyter-widgets/controls",
            "_model_module_version": "1.5.0",
            "_model_name": "DescriptionStyleModel",
            "_view_count": null,
            "_view_module": "@jupyter-widgets/base",
            "_view_module_version": "1.2.0",
            "_view_name": "StyleView",
            "description_width": ""
          }
        }
      }
    }
  },
  "cells": [
    {
      "cell_type": "markdown",
      "source": [
        "# Ispitivanje efikasnost TabPFN na tipicnim tabelarnim dataset-ovim (klasifikacija)"
      ],
      "metadata": {
        "id": "YqIAgvU5-KXQ"
      }
    },
    {
      "cell_type": "markdown",
      "source": [
        "# Osnovno pretprocesiranje Adult Income dataset-a"
      ],
      "metadata": {
        "id": "RrgkjV559Z6n"
      }
    },
    {
      "cell_type": "markdown",
      "source": [
        "1. Rukovanje nedostajućim vrijednostima"
      ],
      "metadata": {
        "id": "mSSrTbnH9_3v"
      }
    },
    {
      "cell_type": "code",
      "source": [
        "import pandas as pd\n",
        "\n",
        "# Učitavanje CSV fajl-a\n",
        "df = pd.read_csv('adult.csv')\n",
        "\n",
        "# Prikaz vrijednosti '?' u atributima u kojima ih ima\n",
        "print(\"Broj '?' po kolonama:\")\n",
        "print((df == '?').sum())\n",
        "\n",
        "# Kolone koje sadrže '?' kao nedostajuće vrijednosti\n",
        "missing_value_cols = ['workclass', 'occupation', 'native.country']\n",
        "\n",
        "# Zamjena '?' sa 'Unknown'\n",
        "for col in missing_value_cols:\n",
        "    df[col] = df[col].replace('?', 'Unknown')\n",
        "\n",
        "# Provjera da li su sve '?' uspješno zamijenjene\n",
        "print(\"\\nPreostale '?' vrijednosti:\")\n",
        "print((df == '?').sum())\n"
      ],
      "metadata": {
        "colab": {
          "base_uri": "https://localhost:8080/"
        },
        "id": "_1K53c0X9hv4",
        "outputId": "56263a1d-2ede-440b-f100-d4298aa44eec"
      },
      "execution_count": 1,
      "outputs": [
        {
          "output_type": "stream",
          "name": "stdout",
          "text": [
            "Broj '?' po kolonama:\n",
            "age                  0\n",
            "workclass         1836\n",
            "fnlwgt               0\n",
            "education            0\n",
            "education.num        0\n",
            "marital.status       0\n",
            "occupation        1843\n",
            "relationship         0\n",
            "race                 0\n",
            "sex                  0\n",
            "capital.gain         0\n",
            "capital.loss         0\n",
            "hours.per.week       0\n",
            "native.country     583\n",
            "income               0\n",
            "dtype: int64\n",
            "\n",
            "Preostale '?' vrijednosti:\n",
            "age               0\n",
            "workclass         0\n",
            "fnlwgt            0\n",
            "education         0\n",
            "education.num     0\n",
            "marital.status    0\n",
            "occupation        0\n",
            "relationship      0\n",
            "race              0\n",
            "sex               0\n",
            "capital.gain      0\n",
            "capital.loss      0\n",
            "hours.per.week    0\n",
            "native.country    0\n",
            "income            0\n",
            "dtype: int64\n"
          ]
        }
      ]
    },
    {
      "cell_type": "markdown",
      "source": [
        "2. Endkodiraje kategorijskih atributa"
      ],
      "metadata": {
        "id": "fLGVn5gz-XGp"
      }
    },
    {
      "cell_type": "code",
      "source": [
        "from sklearn.preprocessing import LabelEncoder\n",
        "\n",
        "# Kategorijske kolone (bez ciljne varijable)\n",
        "categorical_cols = [\n",
        "    'workclass',\n",
        "    'marital.status',\n",
        "    'occupation',\n",
        "    'relationship',\n",
        "    'race',\n",
        "    'sex',\n",
        "    'native.country'\n",
        "]\n",
        "\n",
        "# Label encoding za kategorijske kolone\n",
        "label_encoders = {}\n",
        "for col in categorical_cols:\n",
        "    le = LabelEncoder()\n",
        "    df[col] = le.fit_transform(df[col])\n",
        "    label_encoders[col] = le  # čuvamo enkoder ako bude trebalo za dekodiranje\n",
        "\n",
        "# Provjera\n",
        "df[categorical_cols].head()\n",
        "\n"
      ],
      "metadata": {
        "colab": {
          "base_uri": "https://localhost:8080/",
          "height": 206
        },
        "id": "eJiQ83rGB-4A",
        "outputId": "852cd022-1e59-4bca-960e-950e09d7d382"
      },
      "execution_count": 2,
      "outputs": [
        {
          "output_type": "execute_result",
          "data": {
            "text/plain": [
              "   workclass  marital.status  occupation  relationship  race  sex  \\\n",
              "0          7               6          14             1     4    0   \n",
              "1          3               6           3             1     4    0   \n",
              "2          7               6          14             4     2    0   \n",
              "3          3               0           6             4     4    0   \n",
              "4          3               5           9             3     4    0   \n",
              "\n",
              "   native.country  \n",
              "0              38  \n",
              "1              38  \n",
              "2              38  \n",
              "3              38  \n",
              "4              38  "
            ],
            "text/html": [
              "\n",
              "  <div id=\"df-d18dc9f6-a91d-47d3-ae03-e3d0ec691690\" class=\"colab-df-container\">\n",
              "    <div>\n",
              "<style scoped>\n",
              "    .dataframe tbody tr th:only-of-type {\n",
              "        vertical-align: middle;\n",
              "    }\n",
              "\n",
              "    .dataframe tbody tr th {\n",
              "        vertical-align: top;\n",
              "    }\n",
              "\n",
              "    .dataframe thead th {\n",
              "        text-align: right;\n",
              "    }\n",
              "</style>\n",
              "<table border=\"1\" class=\"dataframe\">\n",
              "  <thead>\n",
              "    <tr style=\"text-align: right;\">\n",
              "      <th></th>\n",
              "      <th>workclass</th>\n",
              "      <th>marital.status</th>\n",
              "      <th>occupation</th>\n",
              "      <th>relationship</th>\n",
              "      <th>race</th>\n",
              "      <th>sex</th>\n",
              "      <th>native.country</th>\n",
              "    </tr>\n",
              "  </thead>\n",
              "  <tbody>\n",
              "    <tr>\n",
              "      <th>0</th>\n",
              "      <td>7</td>\n",
              "      <td>6</td>\n",
              "      <td>14</td>\n",
              "      <td>1</td>\n",
              "      <td>4</td>\n",
              "      <td>0</td>\n",
              "      <td>38</td>\n",
              "    </tr>\n",
              "    <tr>\n",
              "      <th>1</th>\n",
              "      <td>3</td>\n",
              "      <td>6</td>\n",
              "      <td>3</td>\n",
              "      <td>1</td>\n",
              "      <td>4</td>\n",
              "      <td>0</td>\n",
              "      <td>38</td>\n",
              "    </tr>\n",
              "    <tr>\n",
              "      <th>2</th>\n",
              "      <td>7</td>\n",
              "      <td>6</td>\n",
              "      <td>14</td>\n",
              "      <td>4</td>\n",
              "      <td>2</td>\n",
              "      <td>0</td>\n",
              "      <td>38</td>\n",
              "    </tr>\n",
              "    <tr>\n",
              "      <th>3</th>\n",
              "      <td>3</td>\n",
              "      <td>0</td>\n",
              "      <td>6</td>\n",
              "      <td>4</td>\n",
              "      <td>4</td>\n",
              "      <td>0</td>\n",
              "      <td>38</td>\n",
              "    </tr>\n",
              "    <tr>\n",
              "      <th>4</th>\n",
              "      <td>3</td>\n",
              "      <td>5</td>\n",
              "      <td>9</td>\n",
              "      <td>3</td>\n",
              "      <td>4</td>\n",
              "      <td>0</td>\n",
              "      <td>38</td>\n",
              "    </tr>\n",
              "  </tbody>\n",
              "</table>\n",
              "</div>\n",
              "    <div class=\"colab-df-buttons\">\n",
              "\n",
              "  <div class=\"colab-df-container\">\n",
              "    <button class=\"colab-df-convert\" onclick=\"convertToInteractive('df-d18dc9f6-a91d-47d3-ae03-e3d0ec691690')\"\n",
              "            title=\"Convert this dataframe to an interactive table.\"\n",
              "            style=\"display:none;\">\n",
              "\n",
              "  <svg xmlns=\"http://www.w3.org/2000/svg\" height=\"24px\" viewBox=\"0 -960 960 960\">\n",
              "    <path d=\"M120-120v-720h720v720H120Zm60-500h600v-160H180v160Zm220 220h160v-160H400v160Zm0 220h160v-160H400v160ZM180-400h160v-160H180v160Zm440 0h160v-160H620v160ZM180-180h160v-160H180v160Zm440 0h160v-160H620v160Z\"/>\n",
              "  </svg>\n",
              "    </button>\n",
              "\n",
              "  <style>\n",
              "    .colab-df-container {\n",
              "      display:flex;\n",
              "      gap: 12px;\n",
              "    }\n",
              "\n",
              "    .colab-df-convert {\n",
              "      background-color: #E8F0FE;\n",
              "      border: none;\n",
              "      border-radius: 50%;\n",
              "      cursor: pointer;\n",
              "      display: none;\n",
              "      fill: #1967D2;\n",
              "      height: 32px;\n",
              "      padding: 0 0 0 0;\n",
              "      width: 32px;\n",
              "    }\n",
              "\n",
              "    .colab-df-convert:hover {\n",
              "      background-color: #E2EBFA;\n",
              "      box-shadow: 0px 1px 2px rgba(60, 64, 67, 0.3), 0px 1px 3px 1px rgba(60, 64, 67, 0.15);\n",
              "      fill: #174EA6;\n",
              "    }\n",
              "\n",
              "    .colab-df-buttons div {\n",
              "      margin-bottom: 4px;\n",
              "    }\n",
              "\n",
              "    [theme=dark] .colab-df-convert {\n",
              "      background-color: #3B4455;\n",
              "      fill: #D2E3FC;\n",
              "    }\n",
              "\n",
              "    [theme=dark] .colab-df-convert:hover {\n",
              "      background-color: #434B5C;\n",
              "      box-shadow: 0px 1px 3px 1px rgba(0, 0, 0, 0.15);\n",
              "      filter: drop-shadow(0px 1px 2px rgba(0, 0, 0, 0.3));\n",
              "      fill: #FFFFFF;\n",
              "    }\n",
              "  </style>\n",
              "\n",
              "    <script>\n",
              "      const buttonEl =\n",
              "        document.querySelector('#df-d18dc9f6-a91d-47d3-ae03-e3d0ec691690 button.colab-df-convert');\n",
              "      buttonEl.style.display =\n",
              "        google.colab.kernel.accessAllowed ? 'block' : 'none';\n",
              "\n",
              "      async function convertToInteractive(key) {\n",
              "        const element = document.querySelector('#df-d18dc9f6-a91d-47d3-ae03-e3d0ec691690');\n",
              "        const dataTable =\n",
              "          await google.colab.kernel.invokeFunction('convertToInteractive',\n",
              "                                                    [key], {});\n",
              "        if (!dataTable) return;\n",
              "\n",
              "        const docLinkHtml = 'Like what you see? Visit the ' +\n",
              "          '<a target=\"_blank\" href=https://colab.research.google.com/notebooks/data_table.ipynb>data table notebook</a>'\n",
              "          + ' to learn more about interactive tables.';\n",
              "        element.innerHTML = '';\n",
              "        dataTable['output_type'] = 'display_data';\n",
              "        await google.colab.output.renderOutput(dataTable, element);\n",
              "        const docLink = document.createElement('div');\n",
              "        docLink.innerHTML = docLinkHtml;\n",
              "        element.appendChild(docLink);\n",
              "      }\n",
              "    </script>\n",
              "  </div>\n",
              "\n",
              "\n",
              "    <div id=\"df-4e971655-817a-4ab5-87e3-10fac2be6ef3\">\n",
              "      <button class=\"colab-df-quickchart\" onclick=\"quickchart('df-4e971655-817a-4ab5-87e3-10fac2be6ef3')\"\n",
              "                title=\"Suggest charts\"\n",
              "                style=\"display:none;\">\n",
              "\n",
              "<svg xmlns=\"http://www.w3.org/2000/svg\" height=\"24px\"viewBox=\"0 0 24 24\"\n",
              "     width=\"24px\">\n",
              "    <g>\n",
              "        <path d=\"M19 3H5c-1.1 0-2 .9-2 2v14c0 1.1.9 2 2 2h14c1.1 0 2-.9 2-2V5c0-1.1-.9-2-2-2zM9 17H7v-7h2v7zm4 0h-2V7h2v10zm4 0h-2v-4h2v4z\"/>\n",
              "    </g>\n",
              "</svg>\n",
              "      </button>\n",
              "\n",
              "<style>\n",
              "  .colab-df-quickchart {\n",
              "      --bg-color: #E8F0FE;\n",
              "      --fill-color: #1967D2;\n",
              "      --hover-bg-color: #E2EBFA;\n",
              "      --hover-fill-color: #174EA6;\n",
              "      --disabled-fill-color: #AAA;\n",
              "      --disabled-bg-color: #DDD;\n",
              "  }\n",
              "\n",
              "  [theme=dark] .colab-df-quickchart {\n",
              "      --bg-color: #3B4455;\n",
              "      --fill-color: #D2E3FC;\n",
              "      --hover-bg-color: #434B5C;\n",
              "      --hover-fill-color: #FFFFFF;\n",
              "      --disabled-bg-color: #3B4455;\n",
              "      --disabled-fill-color: #666;\n",
              "  }\n",
              "\n",
              "  .colab-df-quickchart {\n",
              "    background-color: var(--bg-color);\n",
              "    border: none;\n",
              "    border-radius: 50%;\n",
              "    cursor: pointer;\n",
              "    display: none;\n",
              "    fill: var(--fill-color);\n",
              "    height: 32px;\n",
              "    padding: 0;\n",
              "    width: 32px;\n",
              "  }\n",
              "\n",
              "  .colab-df-quickchart:hover {\n",
              "    background-color: var(--hover-bg-color);\n",
              "    box-shadow: 0 1px 2px rgba(60, 64, 67, 0.3), 0 1px 3px 1px rgba(60, 64, 67, 0.15);\n",
              "    fill: var(--button-hover-fill-color);\n",
              "  }\n",
              "\n",
              "  .colab-df-quickchart-complete:disabled,\n",
              "  .colab-df-quickchart-complete:disabled:hover {\n",
              "    background-color: var(--disabled-bg-color);\n",
              "    fill: var(--disabled-fill-color);\n",
              "    box-shadow: none;\n",
              "  }\n",
              "\n",
              "  .colab-df-spinner {\n",
              "    border: 2px solid var(--fill-color);\n",
              "    border-color: transparent;\n",
              "    border-bottom-color: var(--fill-color);\n",
              "    animation:\n",
              "      spin 1s steps(1) infinite;\n",
              "  }\n",
              "\n",
              "  @keyframes spin {\n",
              "    0% {\n",
              "      border-color: transparent;\n",
              "      border-bottom-color: var(--fill-color);\n",
              "      border-left-color: var(--fill-color);\n",
              "    }\n",
              "    20% {\n",
              "      border-color: transparent;\n",
              "      border-left-color: var(--fill-color);\n",
              "      border-top-color: var(--fill-color);\n",
              "    }\n",
              "    30% {\n",
              "      border-color: transparent;\n",
              "      border-left-color: var(--fill-color);\n",
              "      border-top-color: var(--fill-color);\n",
              "      border-right-color: var(--fill-color);\n",
              "    }\n",
              "    40% {\n",
              "      border-color: transparent;\n",
              "      border-right-color: var(--fill-color);\n",
              "      border-top-color: var(--fill-color);\n",
              "    }\n",
              "    60% {\n",
              "      border-color: transparent;\n",
              "      border-right-color: var(--fill-color);\n",
              "    }\n",
              "    80% {\n",
              "      border-color: transparent;\n",
              "      border-right-color: var(--fill-color);\n",
              "      border-bottom-color: var(--fill-color);\n",
              "    }\n",
              "    90% {\n",
              "      border-color: transparent;\n",
              "      border-bottom-color: var(--fill-color);\n",
              "    }\n",
              "  }\n",
              "</style>\n",
              "\n",
              "      <script>\n",
              "        async function quickchart(key) {\n",
              "          const quickchartButtonEl =\n",
              "            document.querySelector('#' + key + ' button');\n",
              "          quickchartButtonEl.disabled = true;  // To prevent multiple clicks.\n",
              "          quickchartButtonEl.classList.add('colab-df-spinner');\n",
              "          try {\n",
              "            const charts = await google.colab.kernel.invokeFunction(\n",
              "                'suggestCharts', [key], {});\n",
              "          } catch (error) {\n",
              "            console.error('Error during call to suggestCharts:', error);\n",
              "          }\n",
              "          quickchartButtonEl.classList.remove('colab-df-spinner');\n",
              "          quickchartButtonEl.classList.add('colab-df-quickchart-complete');\n",
              "        }\n",
              "        (() => {\n",
              "          let quickchartButtonEl =\n",
              "            document.querySelector('#df-4e971655-817a-4ab5-87e3-10fac2be6ef3 button');\n",
              "          quickchartButtonEl.style.display =\n",
              "            google.colab.kernel.accessAllowed ? 'block' : 'none';\n",
              "        })();\n",
              "      </script>\n",
              "    </div>\n",
              "    </div>\n",
              "  </div>\n"
            ],
            "application/vnd.google.colaboratory.intrinsic+json": {
              "type": "dataframe",
              "summary": "{\n  \"name\": \"df[categorical_cols]\",\n  \"rows\": 5,\n  \"fields\": [\n    {\n      \"column\": \"workclass\",\n      \"properties\": {\n        \"dtype\": \"number\",\n        \"std\": 2,\n        \"min\": 3,\n        \"max\": 7,\n        \"num_unique_values\": 2,\n        \"samples\": [\n          3,\n          7\n        ],\n        \"semantic_type\": \"\",\n        \"description\": \"\"\n      }\n    },\n    {\n      \"column\": \"marital.status\",\n      \"properties\": {\n        \"dtype\": \"number\",\n        \"std\": 2,\n        \"min\": 0,\n        \"max\": 6,\n        \"num_unique_values\": 3,\n        \"samples\": [\n          6,\n          0\n        ],\n        \"semantic_type\": \"\",\n        \"description\": \"\"\n      }\n    },\n    {\n      \"column\": \"occupation\",\n      \"properties\": {\n        \"dtype\": \"number\",\n        \"std\": 4,\n        \"min\": 3,\n        \"max\": 14,\n        \"num_unique_values\": 4,\n        \"samples\": [\n          3,\n          9\n        ],\n        \"semantic_type\": \"\",\n        \"description\": \"\"\n      }\n    },\n    {\n      \"column\": \"relationship\",\n      \"properties\": {\n        \"dtype\": \"number\",\n        \"std\": 1,\n        \"min\": 1,\n        \"max\": 4,\n        \"num_unique_values\": 3,\n        \"samples\": [\n          1,\n          4\n        ],\n        \"semantic_type\": \"\",\n        \"description\": \"\"\n      }\n    },\n    {\n      \"column\": \"race\",\n      \"properties\": {\n        \"dtype\": \"number\",\n        \"std\": 0,\n        \"min\": 2,\n        \"max\": 4,\n        \"num_unique_values\": 2,\n        \"samples\": [\n          2,\n          4\n        ],\n        \"semantic_type\": \"\",\n        \"description\": \"\"\n      }\n    },\n    {\n      \"column\": \"sex\",\n      \"properties\": {\n        \"dtype\": \"number\",\n        \"std\": 0,\n        \"min\": 0,\n        \"max\": 0,\n        \"num_unique_values\": 1,\n        \"samples\": [\n          0\n        ],\n        \"semantic_type\": \"\",\n        \"description\": \"\"\n      }\n    },\n    {\n      \"column\": \"native.country\",\n      \"properties\": {\n        \"dtype\": \"number\",\n        \"std\": 0,\n        \"min\": 38,\n        \"max\": 38,\n        \"num_unique_values\": 1,\n        \"samples\": [\n          38\n        ],\n        \"semantic_type\": \"\",\n        \"description\": \"\"\n      }\n    }\n  ]\n}"
            }
          },
          "metadata": {},
          "execution_count": 2
        }
      ]
    },
    {
      "cell_type": "markdown",
      "source": [
        "3. Uklanjanje atributa"
      ],
      "metadata": {
        "id": "nCXBMynYDJwk"
      }
    },
    {
      "cell_type": "code",
      "source": [
        "df.drop(columns=['education', 'fnlwgt'], inplace=True)\n",
        "print(df.columns)"
      ],
      "metadata": {
        "colab": {
          "base_uri": "https://localhost:8080/"
        },
        "id": "B2V9mbSXDP-F",
        "outputId": "62220da2-a3a1-4a25-ef31-f55b8d8fe83b"
      },
      "execution_count": 3,
      "outputs": [
        {
          "output_type": "stream",
          "name": "stdout",
          "text": [
            "Index(['age', 'workclass', 'education.num', 'marital.status', 'occupation',\n",
            "       'relationship', 'race', 'sex', 'capital.gain', 'capital.loss',\n",
            "       'hours.per.week', 'native.country', 'income'],\n",
            "      dtype='object')\n"
          ]
        }
      ]
    },
    {
      "cell_type": "markdown",
      "source": [
        "4. Enkodiranje ciljne varijable *income*\n",
        "\n"
      ],
      "metadata": {
        "id": "PfyMfX15DhRM"
      }
    },
    {
      "cell_type": "code",
      "source": [
        "from sklearn.preprocessing import LabelEncoder\n",
        "# Enkodiranje ciljne varijable\n",
        "le_target = LabelEncoder()\n",
        "df['income'] = le_target.fit_transform(df['income'])\n",
        "# Prikaz mapiranja vrijednosti\n",
        "print(\"Mapiranje klasnih oznaka:\")\n",
        "for original, encoded in zip(le_target.classes_, le_target.transform(le_target.classes_)):\n",
        "    print(f\"{original} → {encoded}\")\n"
      ],
      "metadata": {
        "colab": {
          "base_uri": "https://localhost:8080/"
        },
        "id": "IpZCNmGRDjxE",
        "outputId": "3175a14c-5c54-4d3a-9688-66fa4e79d997"
      },
      "execution_count": 4,
      "outputs": [
        {
          "output_type": "stream",
          "name": "stdout",
          "text": [
            "Mapiranje klasnih oznaka:\n",
            "<=50K → 0\n",
            ">50K → 1\n"
          ]
        }
      ]
    },
    {
      "cell_type": "markdown",
      "source": [
        "# Ispitivanje efikasnosti TabPFN modela\n",
        "\n",
        "---\n",
        "\n"
      ],
      "metadata": {
        "id": "ai3WIH-M8LNC"
      }
    },
    {
      "cell_type": "markdown",
      "source": [
        "Instalacija potrebnih biblioteka za TabPFN model"
      ],
      "metadata": {
        "id": "fsciDFqc-EgC"
      }
    },
    {
      "cell_type": "code",
      "source": [
        "!pip install tabpfn torch --quiet"
      ],
      "metadata": {
        "colab": {
          "base_uri": "https://localhost:8080/"
        },
        "id": "QOM_JbCf-Ibi",
        "outputId": "15093418-7508-461e-d47d-d1f314a18ebc"
      },
      "execution_count": 5,
      "outputs": [
        {
          "output_type": "stream",
          "name": "stdout",
          "text": [
            "\u001b[2K   \u001b[90m━━━━━━━━━━━━━━━━━━━━━━━━━━━━━━━━━━━━━━━━\u001b[0m \u001b[32m128.9/128.9 kB\u001b[0m \u001b[31m9.1 MB/s\u001b[0m eta \u001b[36m0:00:00\u001b[0m\n",
            "\u001b[2K   \u001b[90m━━━━━━━━━━━━━━━━━━━━━━━━━━━━━━━━━━━━━━━━\u001b[0m \u001b[32m363.4/363.4 MB\u001b[0m \u001b[31m3.6 MB/s\u001b[0m eta \u001b[36m0:00:00\u001b[0m\n",
            "\u001b[2K   \u001b[90m━━━━━━━━━━━━━━━━━━━━━━━━━━━━━━━━━━━━━━━━\u001b[0m \u001b[32m13.8/13.8 MB\u001b[0m \u001b[31m124.2 MB/s\u001b[0m eta \u001b[36m0:00:00\u001b[0m\n",
            "\u001b[2K   \u001b[90m━━━━━━━━━━━━━━━━━━━━━━━━━━━━━━━━━━━━━━━━\u001b[0m \u001b[32m24.6/24.6 MB\u001b[0m \u001b[31m98.5 MB/s\u001b[0m eta \u001b[36m0:00:00\u001b[0m\n",
            "\u001b[2K   \u001b[90m━━━━━━━━━━━━━━━━━━━━━━━━━━━━━━━━━━━━━━━━\u001b[0m \u001b[32m883.7/883.7 kB\u001b[0m \u001b[31m56.4 MB/s\u001b[0m eta \u001b[36m0:00:00\u001b[0m\n",
            "\u001b[2K   \u001b[90m━━━━━━━━━━━━━━━━━━━━━━━━━━━━━━━━━━━━━━━━\u001b[0m \u001b[32m664.8/664.8 MB\u001b[0m \u001b[31m2.1 MB/s\u001b[0m eta \u001b[36m0:00:00\u001b[0m\n",
            "\u001b[2K   \u001b[90m━━━━━━━━━━━━━━━━━━━━━━━━━━━━━━━━━━━━━━━━\u001b[0m \u001b[32m211.5/211.5 MB\u001b[0m \u001b[31m5.3 MB/s\u001b[0m eta \u001b[36m0:00:00\u001b[0m\n",
            "\u001b[2K   \u001b[90m━━━━━━━━━━━━━━━━━━━━━━━━━━━━━━━━━━━━━━━━\u001b[0m \u001b[32m56.3/56.3 MB\u001b[0m \u001b[31m14.1 MB/s\u001b[0m eta \u001b[36m0:00:00\u001b[0m\n",
            "\u001b[2K   \u001b[90m━━━━━━━━━━━━━━━━━━━━━━━━━━━━━━━━━━━━━━━━\u001b[0m \u001b[32m127.9/127.9 MB\u001b[0m \u001b[31m7.5 MB/s\u001b[0m eta \u001b[36m0:00:00\u001b[0m\n",
            "\u001b[2K   \u001b[90m━━━━━━━━━━━━━━━━━━━━━━━━━━━━━━━━━━━━━━━━\u001b[0m \u001b[32m207.5/207.5 MB\u001b[0m \u001b[31m5.4 MB/s\u001b[0m eta \u001b[36m0:00:00\u001b[0m\n",
            "\u001b[2K   \u001b[90m━━━━━━━━━━━━━━━━━━━━━━━━━━━━━━━━━━━━━━━━\u001b[0m \u001b[32m21.1/21.1 MB\u001b[0m \u001b[31m107.6 MB/s\u001b[0m eta \u001b[36m0:00:00\u001b[0m\n",
            "\u001b[?25h"
          ]
        }
      ]
    },
    {
      "cell_type": "markdown",
      "source": [
        "Import potrebnih biblioteka"
      ],
      "metadata": {
        "id": "Bxge603-9pts"
      }
    },
    {
      "cell_type": "code",
      "source": [
        "from sklearn.model_selection import train_test_split\n",
        "import torch\n",
        "from tabpfn import TabPFNClassifier\n",
        "from sklearn.metrics import accuracy_score, classification_report\n",
        "from sklearn.ensemble import RandomForestClassifier"
      ],
      "metadata": {
        "id": "1QJkyCJH9tLL"
      },
      "execution_count": 6,
      "outputs": []
    },
    {
      "cell_type": "markdown",
      "source": [
        "# Ispitivanje na podskupu od 10 000 instanci"
      ],
      "metadata": {
        "id": "t2YC1R94_rGW"
      }
    },
    {
      "cell_type": "markdown",
      "source": [
        "Priprema podataka"
      ],
      "metadata": {
        "id": "vnnTwa1Y3Woh"
      }
    },
    {
      "cell_type": "code",
      "source": [
        "# Stratifikovano uzorkovanje iz cijelog df\n",
        "df_10000, _ = train_test_split(\n",
        "    df,\n",
        "    train_size=10000,\n",
        "    stratify=df['income'],\n",
        "    random_state=10000\n",
        ")\n",
        "\n",
        "X_10000 = df_10000.drop(columns=['income'])\n",
        "y_10000 = df_10000['income']\n",
        "\n",
        "X_10000_np = X_10000.to_numpy().astype('float32')\n",
        "y_10000_np = y_10000.to_numpy().astype('int64')\n",
        "\n",
        "X_train_10000, X_test_10000, y_train_10000, y_test_10000 = train_test_split(\n",
        "    X_10000_np,\n",
        "    y_10000_np,\n",
        "    test_size=0.2,\n",
        "    stratify=y_10000_np,\n",
        "    random_state=42\n",
        ")"
      ],
      "metadata": {
        "id": "pzGL0nPt_zFn"
      },
      "execution_count": 7,
      "outputs": []
    },
    {
      "cell_type": "markdown",
      "source": [
        "Treniranje i evaluacija modela"
      ],
      "metadata": {
        "id": "25x0iNAO4aj2"
      }
    },
    {
      "cell_type": "code",
      "source": [
        "device = 'cuda' if torch.cuda.is_available() else 'cpu'\n",
        "print(f\"Koristi se uređaj: {device}\")\n",
        "\n",
        "# 1. Učitavanje unaprijed treniranog TabPFN modela\n",
        "model = TabPFNClassifier(device=device)\n",
        "model.fit(X_train_10000, y_train_10000)\n",
        "\n",
        "# 2. Predikcija nad test skupom\n",
        "y_pred_10000 = model.predict(X_test_10000)\n",
        "\n",
        "# 3. Evaluacija modela\n",
        "accuracy = accuracy_score(y_test_10000, y_pred_10000)\n",
        "print(f\"\\n Tačnost (accuracy) modela na test skupu (10k uzorak): {accuracy:.4f}\\n\")\n",
        "\n",
        "# Detaljan izvještaj\n",
        "print(\"Klasifikacioni izvještaj:\\n\")\n",
        "print(classification_report(y_test_10000, y_pred_10000, target_names=['<=50K', '>50K']))"
      ],
      "metadata": {
        "colab": {
          "base_uri": "https://localhost:8080/",
          "height": 480,
          "referenced_widgets": [
            "2952bbbd797443b08cd66c9e925a2b76",
            "1e28a590983b413590f41e9c7cededa6",
            "8c054dd043594d538d514c0285c023e0",
            "62a73071ac5f49208296710200d6fc43",
            "98e89cb1cf744d639eeb198b5ee394b3",
            "d6c03ddf07ee499c8d0a1d51512e2ce2",
            "a1f7b38ff8ca4dd684e3eec865b79768",
            "d4ae3afdab644e55a2bc725e86379c21",
            "7275bef6c79d414abfd3253a7b28304b",
            "96c839917e5248449fa53ad1ee9cce49",
            "42d0a2de6b7b49198ab6d4b23822fd51",
            "e100a50b6e1b4eb897b419a1e510dea7",
            "0d8df11d4b994dd1a2bfd43b27ba5e48",
            "05b727cd5d75485296adf69937f84ff0",
            "51f004b0508748d389d72195a195a0b8",
            "26e57d1facd744f1863290ee926676a9",
            "d9ba1c99694a4ac9a1441c2351e005db",
            "aceecbeb67e14b148002ffb606398ca8",
            "450f29e1f09e4dfab301bdfa079bb156",
            "0d55079aeed340088b1c4c4b169e6d97",
            "14d829842d074c3e983f20675ce91c57",
            "457b902604b8436bbe2ee5dbd2adce6b"
          ]
        },
        "id": "kEieDPRHDXlm",
        "outputId": "1a964c90-b6fe-4444-8f97-926fe756a424"
      },
      "execution_count": 8,
      "outputs": [
        {
          "output_type": "stream",
          "name": "stdout",
          "text": [
            "Koristi se uređaj: cuda\n"
          ]
        },
        {
          "output_type": "stream",
          "name": "stderr",
          "text": [
            "/usr/local/lib/python3.11/dist-packages/tabpfn/base.py:89: UserWarning: Downloading model to /root/.cache/tabpfn/tabpfn-v2-classifier.ckpt.\n",
            "  model, _, config_ = load_model_criterion_config(\n",
            "/usr/local/lib/python3.11/dist-packages/huggingface_hub/utils/_auth.py:94: UserWarning: \n",
            "The secret `HF_TOKEN` does not exist in your Colab secrets.\n",
            "To authenticate with the Hugging Face Hub, create a token in your settings tab (https://huggingface.co/settings/tokens), set it as secret in your Google Colab and restart your session.\n",
            "You will be able to reuse this secret in all of your notebooks.\n",
            "Please note that authentication is recommended but still optional to access public models or datasets.\n",
            "  warnings.warn(\n"
          ]
        },
        {
          "output_type": "display_data",
          "data": {
            "text/plain": [
              "tabpfn-v2-classifier.ckpt:   0%|          | 0.00/29.0M [00:00<?, ?B/s]"
            ],
            "application/vnd.jupyter.widget-view+json": {
              "version_major": 2,
              "version_minor": 0,
              "model_id": "2952bbbd797443b08cd66c9e925a2b76"
            }
          },
          "metadata": {}
        },
        {
          "output_type": "display_data",
          "data": {
            "text/plain": [
              "config.json:   0%|          | 0.00/37.0 [00:00<?, ?B/s]"
            ],
            "application/vnd.jupyter.widget-view+json": {
              "version_major": 2,
              "version_minor": 0,
              "model_id": "e100a50b6e1b4eb897b419a1e510dea7"
            }
          },
          "metadata": {}
        },
        {
          "output_type": "stream",
          "name": "stdout",
          "text": [
            "\n",
            " Tačnost (accuracy) modela na test skupu (10k uzorak): 0.8625\n",
            "\n",
            "Klasifikacioni izvještaj:\n",
            "\n",
            "              precision    recall  f1-score   support\n",
            "\n",
            "       <=50K       0.88      0.94      0.91      1518\n",
            "        >50K       0.77      0.61      0.68       482\n",
            "\n",
            "    accuracy                           0.86      2000\n",
            "   macro avg       0.83      0.78      0.80      2000\n",
            "weighted avg       0.86      0.86      0.86      2000\n",
            "\n"
          ]
        }
      ]
    },
    {
      "cell_type": "markdown",
      "source": [
        "Primjena RandomForest modela nad istim uzorkom radi poređenja"
      ],
      "metadata": {
        "id": "9RZ_YaDk4hhe"
      }
    },
    {
      "cell_type": "code",
      "source": [
        "# Inicijalizacija Random Forest modela\n",
        "rf_model = RandomForestClassifier(random_state=42)\n",
        "\n",
        "# Treniranje na trening skupu od 10.000 uzoraka\n",
        "rf_model.fit(X_train_10000, y_train_10000)\n",
        "\n",
        "# Predikcija na test skupu\n",
        "y_pred_rf = rf_model.predict(X_test_10000)\n",
        "\n",
        "# Evaluacija modela\n",
        "accuracy_rf = accuracy_score(y_test_10000, y_pred_rf)\n",
        "print(f\"\\nTačnost (accuracy) Random Forest modela na test skupu (10.000 uzorak): {accuracy_rf:.4f}\\n\")\n",
        "print(\"Klasifikacioni izvještaj za Random Forest:\\n\")\n",
        "print(classification_report(y_test_10000, y_pred_rf, target_names=['<=50K', '>50K']))"
      ],
      "metadata": {
        "colab": {
          "base_uri": "https://localhost:8080/"
        },
        "id": "hOcqRLEaPwwc",
        "outputId": "7a7cccd0-f6e6-4bc4-bc72-f5f27c78dd8a"
      },
      "execution_count": 9,
      "outputs": [
        {
          "output_type": "stream",
          "name": "stdout",
          "text": [
            "\n",
            "Tačnost (accuracy) Random Forest modela na test skupu (10.000 uzorak): 0.8485\n",
            "\n",
            "Klasifikacioni izvještaj za Random Forest:\n",
            "\n",
            "              precision    recall  f1-score   support\n",
            "\n",
            "       <=50K       0.88      0.93      0.90      1518\n",
            "        >50K       0.73      0.59      0.65       482\n",
            "\n",
            "    accuracy                           0.85      2000\n",
            "   macro avg       0.80      0.76      0.78      2000\n",
            "weighted avg       0.84      0.85      0.84      2000\n",
            "\n"
          ]
        }
      ]
    },
    {
      "cell_type": "markdown",
      "source": [
        "# Ispitivanje na podskupu od 5 000 instanci"
      ],
      "metadata": {
        "id": "S7Xzr0aBICHu"
      }
    },
    {
      "cell_type": "markdown",
      "source": [
        "Priprema podataka"
      ],
      "metadata": {
        "id": "6wQ6pUe17nV0"
      }
    },
    {
      "cell_type": "code",
      "source": [
        "# Stratifikovano uzorkovanje iz cijelog df za 5000 uzoraka\n",
        "df_5000, _ = train_test_split(\n",
        "    df,\n",
        "    train_size=5000,\n",
        "    stratify=df['income'],\n",
        "    random_state=10000\n",
        ")\n",
        "\n",
        "X_5000 = df_5000.drop(columns=['income'])\n",
        "y_5000 = df_5000['income']\n",
        "\n",
        "X_5000_np = X_5000.to_numpy().astype('float32')\n",
        "y_5000_np = y_5000.to_numpy().astype('int64')\n",
        "\n",
        "X_train_5000, X_test_5000, y_train_5000, y_test_5000 = train_test_split(\n",
        "    X_5000_np,\n",
        "    y_5000_np,\n",
        "    test_size=0.2,\n",
        "    stratify=y_5000_np,\n",
        "    random_state=42\n",
        ")"
      ],
      "metadata": {
        "id": "AsZDdqlpID8M"
      },
      "execution_count": 10,
      "outputs": []
    },
    {
      "cell_type": "markdown",
      "source": [
        "Treniranje i evaluacija modela"
      ],
      "metadata": {
        "id": "evRWAIYT7pb9"
      }
    },
    {
      "cell_type": "code",
      "source": [
        "device = 'cuda' if torch.cuda.is_available() else 'cpu'\n",
        "print(f\"Koristi se uređaj: {device}\")\n",
        "\n",
        "# 1. Učitavanje unaprijed treniranog TabPFN modela\n",
        "model = TabPFNClassifier(device=device)\n",
        "model.fit(X_train_5000, y_train_5000)\n",
        "\n",
        "# 2. Predikcija nad test skupom\n",
        "y_pred_5000 = model.predict(X_test_5000)\n",
        "\n",
        "# 3. Evaluacija modela\n",
        "accuracy = accuracy_score(y_test_5000, y_pred_5000)\n",
        "print(f\"\\n Tačnost (accuracy) modela na test skupu (5k uzorak): {accuracy:.4f}\\n\")\n",
        "\n",
        "# Detaljan izvještaj\n",
        "print(\"Klasifikacioni izvještaj:\\n\")\n",
        "print(classification_report(y_test_5000, y_pred_5000, target_names=['<=50K', '>50K']))"
      ],
      "metadata": {
        "colab": {
          "base_uri": "https://localhost:8080/"
        },
        "id": "iICEPd3EIsGb",
        "outputId": "3e108bbf-ae0a-4ece-dd1a-125ea27bcba4"
      },
      "execution_count": 11,
      "outputs": [
        {
          "output_type": "stream",
          "name": "stdout",
          "text": [
            "Koristi se uređaj: cuda\n",
            "\n",
            " Tačnost (accuracy) modela na test skupu (5k uzorak): 0.8530\n",
            "\n",
            "Klasifikacioni izvještaj:\n",
            "\n",
            "              precision    recall  f1-score   support\n",
            "\n",
            "       <=50K       0.88      0.93      0.91       759\n",
            "        >50K       0.74      0.61      0.67       241\n",
            "\n",
            "    accuracy                           0.85      1000\n",
            "   macro avg       0.81      0.77      0.79      1000\n",
            "weighted avg       0.85      0.85      0.85      1000\n",
            "\n"
          ]
        }
      ]
    },
    {
      "cell_type": "markdown",
      "source": [
        "Primjena RandomForest modela nad istim uzorkom radi poređenja"
      ],
      "metadata": {
        "id": "vxacZqmb7zwL"
      }
    },
    {
      "cell_type": "code",
      "source": [
        "# Inicijalizacija Random Forest modela\n",
        "rf_model = RandomForestClassifier(random_state=42)\n",
        "\n",
        "# Treniranje na trening skupu od 5.000 uzoraka\n",
        "rf_model.fit(X_train_5000, y_train_5000)\n",
        "\n",
        "# Predikcija na test skupu\n",
        "y_pred_rf = rf_model.predict(X_test_5000)\n",
        "\n",
        "# Evaluacija modela\n",
        "accuracy_rf = accuracy_score(y_test_5000, y_pred_rf)\n",
        "print(f\"\\nTačnost (accuracy) Random Forest modela na test skupu (5.000 uzorak): {accuracy_rf:.4f}\\n\")\n",
        "print(\"Klasifikacioni izvještaj za Random Forest:\\n\")\n",
        "print(classification_report(y_test_5000, y_pred_rf, target_names=['<=50K', '>50K']))"
      ],
      "metadata": {
        "id": "Ohj-AK2BSyl9",
        "colab": {
          "base_uri": "https://localhost:8080/"
        },
        "outputId": "6d71a1ba-da16-40c7-d40d-b61b1be22b3a"
      },
      "execution_count": 12,
      "outputs": [
        {
          "output_type": "stream",
          "name": "stdout",
          "text": [
            "\n",
            "Tačnost (accuracy) Random Forest modela na test skupu (5.000 uzorak): 0.8330\n",
            "\n",
            "Klasifikacioni izvještaj za Random Forest:\n",
            "\n",
            "              precision    recall  f1-score   support\n",
            "\n",
            "       <=50K       0.86      0.93      0.89       759\n",
            "        >50K       0.70      0.53      0.61       241\n",
            "\n",
            "    accuracy                           0.83      1000\n",
            "   macro avg       0.78      0.73      0.75      1000\n",
            "weighted avg       0.82      0.83      0.82      1000\n",
            "\n"
          ]
        }
      ]
    },
    {
      "cell_type": "markdown",
      "source": [
        "# Ispitivanje na podskupu od 500 instanci"
      ],
      "metadata": {
        "id": "xLzr6lsmL2te"
      }
    },
    {
      "cell_type": "markdown",
      "source": [
        "Priprema podataka"
      ],
      "metadata": {
        "id": "1bA5MnBk757l"
      }
    },
    {
      "cell_type": "code",
      "source": [
        "# Stratifikovano uzorkovanje iz cijelog df za 500 uzoraka\n",
        "df_500, _ = train_test_split(\n",
        "    df,\n",
        "    train_size=500,\n",
        "    stratify=df['income'],\n",
        "    random_state=10000\n",
        ")\n",
        "\n",
        "X_500 = df_500.drop(columns=['income'])\n",
        "y_500 = df_500['income']\n",
        "\n",
        "X_500_np = X_500.to_numpy().astype('float32')\n",
        "y_500_np = y_500.to_numpy().astype('int64')\n",
        "\n",
        "X_train_500, X_test_500, y_train_500, y_test_500 = train_test_split(\n",
        "    X_500_np,\n",
        "    y_500_np,\n",
        "    test_size=0.2,\n",
        "    stratify=y_500_np,\n",
        "    random_state=42\n",
        ")\n"
      ],
      "metadata": {
        "id": "o3Jc6S2TL9JU"
      },
      "execution_count": 13,
      "outputs": []
    },
    {
      "cell_type": "markdown",
      "source": [
        "Treniranje i evaluacija modela"
      ],
      "metadata": {
        "id": "D572BTeQ7_Ai"
      }
    },
    {
      "cell_type": "code",
      "source": [
        "device = 'cuda' if torch.cuda.is_available() else 'cpu'\n",
        "print(f\"Koristi se uređaj: {device}\")\n",
        "\n",
        "# 1. Učitavanje unaprijed treniranog TabPFN modela\n",
        "model = TabPFNClassifier(device=device)\n",
        "model.fit(X_train_500, y_train_500)\n",
        "\n",
        "# 2. Predikcija nad test skupom\n",
        "y_pred_500 = model.predict(X_test_500)\n",
        "\n",
        "# 3. Evaluacija modela\n",
        "accuracy = accuracy_score(y_test_500, y_pred_500)\n",
        "print(f\"\\n Tačnost (accuracy) modela na test skupu (500 uzorak): {accuracy:.4f}\\n\")\n",
        "\n",
        "# Detaljan izvještaj\n",
        "print(\"Klasifikacioni izvještaj:\\n\")\n",
        "print(classification_report(y_test_500, y_pred_500, target_names=['<=50K', '>50K']))"
      ],
      "metadata": {
        "colab": {
          "base_uri": "https://localhost:8080/"
        },
        "id": "J2sERAlyMEjp",
        "outputId": "fd5d2e71-5d9d-4684-ce0a-6c3f719b8a55"
      },
      "execution_count": 14,
      "outputs": [
        {
          "output_type": "stream",
          "name": "stdout",
          "text": [
            "Koristi se uređaj: cuda\n",
            "\n",
            " Tačnost (accuracy) modela na test skupu (500 uzorak): 0.8800\n",
            "\n",
            "Klasifikacioni izvještaj:\n",
            "\n",
            "              precision    recall  f1-score   support\n",
            "\n",
            "       <=50K       0.89      0.96      0.92        76\n",
            "        >50K       0.83      0.62      0.71        24\n",
            "\n",
            "    accuracy                           0.88       100\n",
            "   macro avg       0.86      0.79      0.82       100\n",
            "weighted avg       0.88      0.88      0.87       100\n",
            "\n"
          ]
        }
      ]
    },
    {
      "cell_type": "markdown",
      "source": [
        "Primjena RandomForest modela nad istim uzorkom radi poređenja"
      ],
      "metadata": {
        "id": "VsLUljhO8CNE"
      }
    },
    {
      "cell_type": "code",
      "source": [
        "# Inicijalizacija modela\n",
        "rf_model = RandomForestClassifier(random_state=42)\n",
        "\n",
        "# Treniranje na istom trening setu\n",
        "rf_model.fit(X_train_500, y_train_500)\n",
        "\n",
        "# Predikcija na test skupu\n",
        "y_pred_rf = rf_model.predict(X_test_500)\n",
        "\n",
        "# Evaluacija\n",
        "accuracy_rf = accuracy_score(y_test_500, y_pred_rf)\n",
        "print(f\"\\nTačnost (accuracy) Random Forest modela na test skupu (500 uzorak): {accuracy_rf:.4f}\\n\")\n",
        "print(\"Klasifikacioni izvještaj za Random Forest:\\n\")\n",
        "print(classification_report(y_test_500, y_pred_rf, target_names=['<=50K', '>50K']))"
      ],
      "metadata": {
        "colab": {
          "base_uri": "https://localhost:8080/"
        },
        "id": "zOBy6vyaPNw1",
        "outputId": "ffd517ff-a2bb-4aef-e328-51607537a3b6"
      },
      "execution_count": 15,
      "outputs": [
        {
          "output_type": "stream",
          "name": "stdout",
          "text": [
            "\n",
            "Tačnost (accuracy) Random Forest modela na test skupu (500 uzorak): 0.9000\n",
            "\n",
            "Klasifikacioni izvještaj za Random Forest:\n",
            "\n",
            "              precision    recall  f1-score   support\n",
            "\n",
            "       <=50K       0.90      0.97      0.94        76\n",
            "        >50K       0.89      0.67      0.76        24\n",
            "\n",
            "    accuracy                           0.90       100\n",
            "   macro avg       0.90      0.82      0.85       100\n",
            "weighted avg       0.90      0.90      0.89       100\n",
            "\n"
          ]
        }
      ]
    }
  ]
}